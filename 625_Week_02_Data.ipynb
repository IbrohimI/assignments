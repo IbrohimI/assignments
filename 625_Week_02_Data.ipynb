{
  "nbformat": 4,
  "nbformat_minor": 0,
  "metadata": {
    "colab": {
      "name": "625-Week-02-Data.ipynb",
      "provenance": [],
      "collapsed_sections": [],
      "toc_visible": true,
      "authorship_tag": "ABX9TyP2gafLBwiRZDoqNsLLq614",
      "include_colab_link": true
    },
    "kernelspec": {
      "name": "python3",
      "display_name": "Python 3"
    }
  },
  "cells": [
    {
      "cell_type": "markdown",
      "metadata": {
        "id": "view-in-github",
        "colab_type": "text"
      },
      "source": [
        "<a href=\"https://colab.research.google.com/github/cs625-datavis-fall20/assignments/blob/master/625_Week_02_Data.ipynb\" target=\"_parent\"><img src=\"https://colab.research.google.com/assets/colab-badge.svg\" alt=\"Open In Colab\"/></a>"
      ]
    },
    {
      "cell_type": "markdown",
      "metadata": {
        "id": "tV4fe0DCfd1a",
        "colab_type": "text"
      },
      "source": [
        "# CS 625 - Week 02 - Data\n",
        "\n",
        "This notebook goes along with the [Week-02 Data slides](https://docs.google.com/presentation/d/1ZKYXZkjnHy6VbW0Gs_azU_lrRt1pEQBaB6ffn5vzwwQ/edit) from [CS 625 Fall 2020](https://www.cs.odu.edu/~mweigle/CS625-F20/)\n",
        "\n",
        "Google Colab tutorials and references:\n",
        "* [Overview of Colaboratory Features](https://colab.research.google.com/notebooks/basic_features_overview.ipynb)\n",
        "* [Welcome to Colaboratory](https://colab.research.google.com/notebooks/welcome.ipynb)\n",
        "* [Loading Data](https://colab.research.google.com/notebooks/io.ipynb)\n",
        "* [Colab and GitHub](https://colab.research.google.com/github/googlecolab/colabtools/blob/master/notebooks/colab-github-demo.ipynb)\n",
        "\n",
        "Python tutorial from CS 432/532\n",
        "* [slides](https://docs.google.com/presentation/d/1_BtQ5b7aG07xSw-BlcnCJT78qXxL2BqYEzug5Mz6cVU/edit?usp=sharing)\n",
        "* [Google Colab notebook](https://github.com/cs432-websci-fall20/assignments/blob/master/432_Week_02_Python.ipynb)"
      ]
    },
    {
      "cell_type": "markdown",
      "metadata": {
        "id": "4eglJSYHZcBE",
        "colab_type": "text"
      },
      "source": [
        "## Regular Expressions"
      ]
    },
    {
      "cell_type": "code",
      "metadata": {
        "id": "WXN1GKkYZdTF",
        "colab_type": "code",
        "colab": {}
      },
      "source": [
        "import re\n",
        "request = \"HEAD /foo HTTP/1.1\"\n",
        "pattern = re.compile(r\"^([A-Z]+)\\s+(\\S+)\\s+([A-Z0-9\\/\\.]+)$\")\n",
        "m = pattern.match(request)\n",
        "m.groups()"
      ],
      "execution_count": null,
      "outputs": []
    },
    {
      "cell_type": "code",
      "metadata": {
        "id": "2ErVxj0m8RbH",
        "colab_type": "code",
        "colab": {}
      },
      "source": [
        "response = \"HTTP/1.1 200 OK\"\n",
        "pattern = re.compile(r\"^HTTP\\/[0-9]\\.[0-9]\\s+([0-9]+)[\\s+\\S+]+$\")\n",
        "m = pattern.match(response)\n",
        "m.groups()"
      ],
      "execution_count": null,
      "outputs": []
    },
    {
      "cell_type": "markdown",
      "metadata": {
        "id": "KXPeS8vm4Xs9",
        "colab_type": "text"
      },
      "source": [
        "## requests Library"
      ]
    },
    {
      "cell_type": "markdown",
      "metadata": {
        "id": "Ar26PymlBK-I",
        "colab_type": "text"
      },
      "source": [
        "Accessing response headers"
      ]
    },
    {
      "cell_type": "code",
      "metadata": {
        "id": "ZW-YwJpd4bZd",
        "colab_type": "code",
        "colab": {}
      },
      "source": [
        "import requests\n",
        "response = requests.get('http://example.com')\n",
        "\n",
        "print (\"Status Code: {}\".format(response.status_code))\n",
        "print (\"URI: {}\\n\".format(response.url))\n",
        "\n",
        "print (\"Headers: {}\\n\".format(response.headers))\n",
        "print (\"Date: {}\".format(response.headers['Date']))\n",
        "print (\"Content-Type: {}\".format(response.headers['Content-Type']))\n",
        "print (\"Content-Length: {}\".format(response.headers['Content-Length']))"
      ],
      "execution_count": null,
      "outputs": []
    },
    {
      "cell_type": "markdown",
      "metadata": {
        "id": "qPxXZz1GBOye",
        "colab_type": "text"
      },
      "source": [
        "Using request query parameters"
      ]
    },
    {
      "cell_type": "code",
      "metadata": {
        "id": "dmAc9lVBBbVH",
        "colab_type": "code",
        "colab": {}
      },
      "source": [
        "import requests\n",
        "response = requests.get('http://google.com/search', params={'q': 'LSU'})\n",
        "print (\"URI requested: {}\".format(response.request.url))\n",
        "print (\"Status Code: {}\\n\".format(response.status_code))\n",
        "\n",
        "lines = response.text.splitlines() # split the string into a list, one line per element\n",
        "\n",
        "# use loop to only print first 5 lines of the response\n",
        "for i in range(5):\n",
        "  print(lines[i])"
      ],
      "execution_count": null,
      "outputs": []
    },
    {
      "cell_type": "markdown",
      "metadata": {
        "id": "8_wG_TQLDYA5",
        "colab_type": "text"
      },
      "source": [
        "## Beautiful Soup Library"
      ]
    },
    {
      "cell_type": "markdown",
      "metadata": {
        "id": "ela1XItgECfO",
        "colab_type": "text"
      },
      "source": [
        "*Print all the links (`a href=`) in a webpage*"
      ]
    },
    {
      "cell_type": "code",
      "metadata": {
        "id": "VRb3IvzJDZ0d",
        "colab_type": "code",
        "colab": {}
      },
      "source": [
        "from bs4 import BeautifulSoup\n",
        "import requests\n",
        "\n",
        "response = requests.get('http://google.com/search', params={'q': 'LSU'})\n",
        "\n",
        "soup = BeautifulSoup(response.text)\n",
        "for links in soup.find_all('a'):\n",
        "  print(links.get('href'))"
      ],
      "execution_count": null,
      "outputs": []
    },
    {
      "cell_type": "markdown",
      "metadata": {
        "id": "SfIjQ3ZuHB3b",
        "colab_type": "text"
      },
      "source": [
        "Filter URIs -- print only links that start with `/url?q=`, strip that off, and stop at first `&`\n",
        "\n",
        "Use https://regex101.com/ for testing the regex"
      ]
    },
    {
      "cell_type": "code",
      "metadata": {
        "id": "Cx75kk_WHBXF",
        "colab_type": "code",
        "colab": {}
      },
      "source": [
        "from bs4 import BeautifulSoup\n",
        "import requests\n",
        "import re\n",
        "\n",
        "response = requests.get('http://google.com/search', params={'q': 'LSU'})\n",
        "\n",
        "pattern = re.compile('\\/url\\?q=([^&]+)')\n",
        "\n",
        "soup = BeautifulSoup(response.text)\n",
        "for links in soup.find_all('a'):\n",
        "  href = links.get('href')\n",
        "  m = pattern.match(href)\n",
        "  if (m != None):\n",
        "    print (m.groups()[0])"
      ],
      "execution_count": null,
      "outputs": []
    }
  ]
}